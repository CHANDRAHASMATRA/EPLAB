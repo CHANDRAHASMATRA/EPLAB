{
 "cells": [
  {
   "cell_type": "code",
   "execution_count": 4,
   "metadata": {},
   "outputs": [
    {
     "name": "stdout",
     "output_type": "stream",
     "text": [
      "Escape hit\n"
     ]
    }
   ],
   "source": [
    "import cv2\n",
    "import numpy as np\n",
    "import matplotlib.pyplot as plt\n",
    "cam = cv2.VideoCapture(0)\n",
    "cv2.namedWindow(\"test\")\n",
    "l=[]\n",
    "while True:\n",
    "    ret, frame = cam.read()\n",
    "    l.append(frame)\n",
    "    if not ret:\n",
    "        print(\"err in capturing\")\n",
    "        break\n",
    "    cv2.imshow(\"test\", frame)\n",
    "    k = cv2.waitKey(1)\n",
    "    if k == 27:\n",
    "        print(\"Escape hit\")\n",
    "        break\n",
    "    elif k%256 == 32:\n",
    "        print(error(l[-1],l[-2]))\n",
    "\n",
    "cam.release()\n",
    "cv2.destroyAllWindows()"
   ]
  },
  {
   "cell_type": "code",
   "execution_count": 5,
   "metadata": {},
   "outputs": [],
   "source": [
    "def error(imageA, imageB):\n",
    "    err = np.sum((imageA.astype(\"float\") - imageB.astype(\"float\")) ** 2)\n",
    "    err /= float(imageA.shape[0] * imageA.shape[1])\n",
    "    return err"
   ]
  },
  {
   "cell_type": "code",
   "execution_count": null,
   "metadata": {},
   "outputs": [],
   "source": [
    "import cv2              #opencv library for image processing\n",
    "import numpy as np\n",
    "\n",
    "import time\n",
    "import matplotlib.pyplot as plt  # library for plotting data\n",
    "\n",
    "import pyttsx3           #to add voice when motion is detected\n",
    "import threading\n",
    "\n",
    "%matplotlib notebook     \n",
    "plt.rcParams['animation.html'] = 'jshtml'\n",
    "\n",
    "fig = plt.figure()      # creating figure for plotting \n",
    "ax = fig.add_subplot(111) \n",
    "fig.show()\n",
    "\n",
    "def thread_voice_alert(engine):  # funtion which will be excecuted when motion is detected\n",
    "    engine.say(\"Motion Detected\")\n",
    "    engine.runAndWait()\n",
    "\n",
    "cap = cv2.VideoCapture(1) # getting live stream from camera\n",
    "\n",
    "frame_width = int( cap.get(cv2.CAP_PROP_FRAME_WIDTH)) #getting frame width\n",
    "\n",
    "frame_height =int( cap.get( cv2.CAP_PROP_FRAME_HEIGHT)) #getting frame height\n",
    "\n",
    "\n",
    "fourcc = cv2.VideoWriter_fourcc('X','V','I','D')\n",
    "\n",
    "out = cv2.VideoWriter(\"output.avi\", fourcc, 5.0, (1280,720)) #displaying video \n",
    "\n",
    "ret, frame1 = cap.read() # getting frame 1\n",
    "ret, frame2 = cap.read() # getting frame 2 consecutive frames\n",
    "i=0                      #varible used for plotting\n",
    "yi=[]                    #list to storedata for plotting\n",
    "xi=[]                    #list to storedata for plotting\n",
    "\n",
    "engine = pyttsx3.init()  #initializing voice engine\n",
    "voices = engine.getProperty('voices') \n",
    "engine.setProperty('voice', voices[1].id) #setting voice \n",
    "engine.setProperty('rate', 150)\n",
    "\n",
    "\n",
    "while True: #running loop to take continous frames and form a video\n",
    "    \n",
    "    diff = cv2.absdiff(frame1, frame2) #calulating difference between continous frames\n",
    "    gray = cv2.cvtColor(diff, cv2.COLOR_BGR2GRAY) #converting result image into gray scale\n",
    "    blur = cv2.GaussianBlur(gray, (5,5), 0) #smooting the image\n",
    "    _, thresh = cv2.threshold(blur, 20, 255, cv2.THRESH_BINARY) #appling threshold to the resulted image \n",
    "    dilated = cv2.dilate(thresh, None, iterations=3)\n",
    "    contours, _ = cv2.findContours(dilated, cv2.RETR_TREE, cv2.CHAIN_APPROX_SIMPLE) #forming contours \n",
    "    \n",
    "    param=[] #list to store parameters\n",
    "    \n",
    "    xi.append(i) #updating x axis elements\n",
    "    \n",
    "    ar={}\n",
    "    \n",
    "    for contour in contours: #iterating over all contours detected\n",
    "        (x, y, w, h) = cv2.boundingRect(contour) \n",
    "        ar[cv2.contourArea(contour)]=contour \n",
    "        param.append(cv2.contourArea(contour)) #storing all contours in a list\n",
    "    \n",
    "    if len(param)>0: # if any contours detected\n",
    "        (x, y, w, h) = cv2.boundingRect(ar[max(param)])\n",
    "        \n",
    "        if max(param)>1100: #keeping a thershold value for the area of the motion detected if area exceeds this threshold then \n",
    "                            #a valid motion is detected\n",
    "\n",
    "            cv2.rectangle(frame1, (x, y), (x+w, y+h), (0, 255, 0), 2) #creating a rectangular frame \n",
    "            yi.append(max(param)) #updating y parameter\n",
    "\n",
    "\n",
    "\n",
    "\n",
    "            cv2.putText(frame1, \"Status: {}\".format('Movement'), (10, 20), cv2.FONT_HERSHEY_SIMPLEX,\n",
    "                        1, (0, 0, 255), 3) #displaying text on the frame when motion detected\n",
    "            t = threading.Thread(target=thread_voice_alert, args=(engine,)) #alerting voice when motion is detected\n",
    "            t.start()\n",
    "        else:\n",
    "            yi.append(max(param))\n",
    "    else:\n",
    "        yi.append(50) #if no contours were found then updating y parameter with a value\n",
    "    i=i+1\n",
    "    \n",
    "    fig.canvas.draw() #drawing the canvas\n",
    "\n",
    "    ax.set_xlim(left=max(0, i-50), right=i+50) #setting axses limits\n",
    "    ax.set_ylim(0,50000)\n",
    "    \n",
    "    ax.plot(xi,yi,\"b\") #updating the plot\n",
    "    \n",
    "    image = cv2.resize(frame1, (1280,720))\n",
    "    \n",
    "    out.write(image) \n",
    "    \n",
    "    cv2.imshow(\"feed\", frame1) #displaying video(live feed)\n",
    "    cv2.imshow(\"absdiff\",diff)\n",
    "    cv2.imshow('diff',gray)\n",
    "    cv2.imshow(\"dilate\",dilated)\n",
    "    frame1 = frame2 #considering current frame as frame1 \n",
    "    ret, frame2 = cap.read() #new frame as frame 2\n",
    "\n",
    "    if cv2.waitKey(40) == 27:\n",
    "        break\n",
    "    \n",
    "plt.close()\n",
    "cv2.destroyAllWindows()\n",
    "cap.release()\n",
    "out.release()"
   ]
  },
  {
   "cell_type": "code",
   "execution_count": 50,
   "metadata": {},
   "outputs": [],
   "source": [
    "def afre(v):\n",
    "    return (344/(334+v))*3562"
   ]
  },
  {
   "cell_type": "code",
   "execution_count": 2,
   "metadata": {},
   "outputs": [],
   "source": [
    "import matplotlib.pyplot as plt"
   ]
  },
  {
   "cell_type": "code",
   "execution_count": 3,
   "metadata": {},
   "outputs": [],
   "source": [
    "import numpy as np"
   ]
  },
  {
   "cell_type": "code",
   "execution_count": 57,
   "metadata": {},
   "outputs": [
    {
     "data": {
      "text/plain": [
       "[<matplotlib.lines.Line2D at 0x205580d1160>]"
      ]
     },
     "execution_count": 57,
     "metadata": {},
     "output_type": "execute_result"
    },
    {
     "data": {
      "image/png": "[encoded data removed]",
      "text/plain": [
       "<Figure size 432x288 with 1 Axes>"
      ]
     },
     "metadata": {
      "needs_background": "light"
     },
     "output_type": "display_data"
    }
   ],
   "source": [
    "dv=np.linspace(0,80,100)\n",
    "l=[]\n",
    "for i in dv:\n",
    "    l.append(afre(i))\n",
    "plt.plot(dv,l)\n",
    "v=[20,30,40,50,60,70]\n",
    "f1=[3446,3352,3278,3203,3093,3048]\n",
    "f2=[3397,3346,3302,3190,3120,3089]\n",
    "plt.plot(v,f1,'.',markersize=10)\n",
    "plt.plot(v,f2,'.',markersize=10)"
   ]
  },
  {
   "cell_type": "code",
   "execution_count": 58,
   "metadata": {},
   "outputs": [
    {
     "data": {
      "text/plain": [
       "[<matplotlib.lines.Line2D at 0x205582234a8>]"
      ]
     },
     "execution_count": 58,
     "metadata": {},
     "output_type": "execute_result"
    },
    {
     "data": {
      "image/png": "[encoded data removed]",
      "text/plain": [
       "<Figure size 432x288 with 1 Axes>"
      ]
     },
     "metadata": {
      "needs_background": "light"
     },
     "output_type": "display_data"
    }
   ],
   "source": [
    "dv=np.linspace(0,1000,2000)\n",
    "l=[]\n",
    "for i in dv:\n",
    "    l.append(afre(i))\n",
    "plt.plot(dv,l)"
   ]
  },
  {
   "cell_type": "code",
   "execution_count": 59,
   "metadata": {},
   "outputs": [
    {
     "data": {
      "text/plain": [
       "[<matplotlib.lines.Line2D at 0x2055837c400>]"
      ]
     },
     "execution_count": 59,
     "metadata": {},
     "output_type": "execute_result"
    },
    {
     "data": {
      "image/png": "[encoded data removed]",
      "text/plain": [
       "<Figure size 432x288 with 1 Axes>"
      ]
     },
     "metadata": {
      "needs_background": "light"
     },
     "output_type": "display_data"
    }
   ],
   "source": [
    "dv=np.linspace(0,80,100)\n",
    "l=[]\n",
    "for i in dv:\n",
    "    l.append(afre(i))\n",
    "favg=[]\n",
    "for i in range(len(v)):\n",
    "    favg.append((f1[i]+f2[i])/2)\n",
    "plt.plot(dv,l)\n",
    "plt.plot(v,f2,'.',markersize=10)"
   ]
  },
  {
   "cell_type": "code",
   "execution_count": 65,
   "metadata": {},
   "outputs": [
    {
     "name": "stdout",
     "output_type": "stream",
     "text": [
      "563.5142092898654\n"
     ]
    }
   ],
   "source": [
    "mse=0\n",
    "for i in range(len(v)):\n",
    "    mse=mse+(afre(v[i])-favg[i])**2\n",
    "print(mse/len(v))\n",
    "    "
   ]
  },
  {
   "cell_type": "code",
   "execution_count": null,
   "metadata": {},
   "outputs": [],
   "source": []
  }
 ],
 "metadata": {
  "kernelspec": {
   "display_name": "Python 3",
   "language": "python",
   "name": "python3"
  },
  "language_info": {
   "codemirror_mode": {
    "name": "ipython",
    "version": 3
   },
   "file_extension": ".py",
   "mimetype": "text/x-python",
   "name": "python",
   "nbconvert_exporter": "python",
   "pygments_lexer": "ipython3",
   "version": "3.7.3"
  }
 },
 "nbformat": 4,
 "nbformat_minor": 2
}
